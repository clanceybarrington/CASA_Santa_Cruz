{
  "nbformat": 4,
  "nbformat_minor": 0,
  "metadata": {
    "colab": {
      "name": "Barrington_Clancey_Stat654_Hw1.ipynb",
      "provenance": [],
      "collapsed_sections": [],
      "authorship_tag": "ABX9TyNibJKQ395f9WqLbaGa2qAy",
      "include_colab_link": true
    },
    "kernelspec": {
      "name": "python3",
      "display_name": "Python 3"
    },
    "language_info": {
      "name": "python"
    }
  },
  "cells": [
    {
      "cell_type": "markdown",
      "metadata": {
        "id": "view-in-github",
        "colab_type": "text"
      },
      "source": [
        "<a href=\"https://colab.research.google.com/github/clanceybarrington/CASA_Santa_Cruz/blob/main/Barrington_Clancey_Stat654_Hw1.ipynb\" target=\"_parent\"><img src=\"https://colab.research.google.com/assets/colab-badge.svg\" alt=\"Open In Colab\"/></a>"
      ]
    },
    {
      "cell_type": "markdown",
      "metadata": {
        "id": "pBwCQgibm-ti"
      },
      "source": [
        "Clancey Barrington  \n",
        "STAT 654  \n",
        "3-26-21 \n",
        "\n",
        "<h1><center>Stat 654 Hw1</center></h1>\n",
        "\n"
      ]
    },
    {
      "cell_type": "markdown",
      "metadata": {
        "id": "k4EmGfbG978c"
      },
      "source": [
        "I decided to do the homework in python instead. I wasn't able to find everything, so I did what I could."
      ]
    },
    {
      "cell_type": "markdown",
      "metadata": {
        "id": "BidwifdeoXmg"
      },
      "source": [
        "### 2.1 A first look at a neural network"
      ]
    },
    {
      "cell_type": "code",
      "metadata": {
        "colab": {
          "base_uri": "https://localhost:8080/",
          "height": 35
        },
        "id": "PFbPNxmooBHQ",
        "outputId": "87be9a0f-2569-47b9-f47b-daceb7886510"
      },
      "source": [
        "import keras\n",
        "keras.__version__"
      ],
      "execution_count": 1,
      "outputs": [
        {
          "output_type": "execute_result",
          "data": {
            "application/vnd.google.colaboratory.intrinsic+json": {
              "type": "string"
            },
            "text/plain": [
              "'2.4.3'"
            ]
          },
          "metadata": {
            "tags": []
          },
          "execution_count": 1
        }
      ]
    },
    {
      "cell_type": "code",
      "metadata": {
        "colab": {
          "base_uri": "https://localhost:8080/",
          "height": 0
        },
        "id": "HX8as4VGol6M",
        "outputId": "5b06f137-3e1a-4496-ddc5-a2cd89a865c1"
      },
      "source": [
        "from keras.datasets import mnist\n",
        "\n",
        "(train_images, train_labels), (test_images, test_labels) = mnist.load_data()"
      ],
      "execution_count": 2,
      "outputs": [
        {
          "output_type": "stream",
          "text": [
            "Downloading data from https://storage.googleapis.com/tensorflow/tf-keras-datasets/mnist.npz\n",
            "11493376/11490434 [==============================] - 0s 0us/step\n"
          ],
          "name": "stdout"
        }
      ]
    },
    {
      "cell_type": "code",
      "metadata": {
        "colab": {
          "base_uri": "https://localhost:8080/",
          "height": 0
        },
        "id": "4-sq4gRPoqiy",
        "outputId": "cb4d3006-3512-4445-91d8-60748ad90f1d"
      },
      "source": [
        "\n",
        "train_images.shape"
      ],
      "execution_count": 3,
      "outputs": [
        {
          "output_type": "execute_result",
          "data": {
            "text/plain": [
              "(60000, 28, 28)"
            ]
          },
          "metadata": {
            "tags": []
          },
          "execution_count": 3
        }
      ]
    },
    {
      "cell_type": "code",
      "metadata": {
        "colab": {
          "base_uri": "https://localhost:8080/",
          "height": 0
        },
        "id": "5-fDB-ClouY1",
        "outputId": "cfca4193-0ad5-4c9f-f26e-dfb8d24e3dcf"
      },
      "source": [
        "len(train_labels)"
      ],
      "execution_count": 4,
      "outputs": [
        {
          "output_type": "execute_result",
          "data": {
            "text/plain": [
              "60000"
            ]
          },
          "metadata": {
            "tags": []
          },
          "execution_count": 4
        }
      ]
    },
    {
      "cell_type": "code",
      "metadata": {
        "colab": {
          "base_uri": "https://localhost:8080/",
          "height": 0
        },
        "id": "Uw10qyWMoxJp",
        "outputId": "1d21d262-f8af-4d62-ef37-964f65fd351d"
      },
      "source": [
        "train_labels"
      ],
      "execution_count": 5,
      "outputs": [
        {
          "output_type": "execute_result",
          "data": {
            "text/plain": [
              "array([5, 0, 4, ..., 5, 6, 8], dtype=uint8)"
            ]
          },
          "metadata": {
            "tags": []
          },
          "execution_count": 5
        }
      ]
    },
    {
      "cell_type": "code",
      "metadata": {
        "colab": {
          "base_uri": "https://localhost:8080/",
          "height": 0
        },
        "id": "NxUF7zigozNE",
        "outputId": "de492143-dbcc-4000-9dc9-aae3714bd78b"
      },
      "source": [
        "test_images.shape"
      ],
      "execution_count": 6,
      "outputs": [
        {
          "output_type": "execute_result",
          "data": {
            "text/plain": [
              "(10000, 28, 28)"
            ]
          },
          "metadata": {
            "tags": []
          },
          "execution_count": 6
        }
      ]
    },
    {
      "cell_type": "code",
      "metadata": {
        "colab": {
          "base_uri": "https://localhost:8080/",
          "height": 0
        },
        "id": "SeEB_4EZo3Ma",
        "outputId": "4a4ba70a-a8f0-493a-f144-336b427aa43d"
      },
      "source": [
        "len(test_labels)"
      ],
      "execution_count": 7,
      "outputs": [
        {
          "output_type": "execute_result",
          "data": {
            "text/plain": [
              "10000"
            ]
          },
          "metadata": {
            "tags": []
          },
          "execution_count": 7
        }
      ]
    },
    {
      "cell_type": "code",
      "metadata": {
        "colab": {
          "base_uri": "https://localhost:8080/",
          "height": 0
        },
        "id": "UbsaZCt1o8Nu",
        "outputId": "406a58af-1a9e-4e67-cc1c-ddebb524480d"
      },
      "source": [
        "test_labels"
      ],
      "execution_count": 8,
      "outputs": [
        {
          "output_type": "execute_result",
          "data": {
            "text/plain": [
              "array([7, 2, 1, ..., 4, 5, 6], dtype=uint8)"
            ]
          },
          "metadata": {
            "tags": []
          },
          "execution_count": 8
        }
      ]
    },
    {
      "cell_type": "code",
      "metadata": {
        "id": "0QiGGLZDo-qO"
      },
      "source": [
        "from keras import models\n",
        "from keras import layers\n",
        "\n",
        "network = models.Sequential()\n",
        "network.add(layers.Dense(512, activation='relu', input_shape=(28 * 28,)))\n",
        "network.add(layers.Dense(10, activation='softmax'))\n"
      ],
      "execution_count": 9,
      "outputs": []
    },
    {
      "cell_type": "code",
      "metadata": {
        "id": "YAxvT2qopCun"
      },
      "source": [
        "network.compile(optimizer='rmsprop',\n",
        "                loss='categorical_crossentropy',\n",
        "                metrics=['accuracy'])"
      ],
      "execution_count": 10,
      "outputs": []
    },
    {
      "cell_type": "code",
      "metadata": {
        "id": "DLRp_LkipF89"
      },
      "source": [
        "train_images = train_images.reshape((60000, 28 * 28))\n",
        "train_images = train_images.astype('float32') / 255\n",
        "\n",
        "test_images = test_images.reshape((10000, 28 * 28))\n",
        "test_images = test_images.astype('float32') / 255"
      ],
      "execution_count": 11,
      "outputs": []
    },
    {
      "cell_type": "code",
      "metadata": {
        "id": "YvfARBaFpKlp"
      },
      "source": [
        "from keras.utils import to_categorical\n",
        "\n",
        "train_labels = to_categorical(train_labels)\n",
        "test_labels = to_categorical(test_labels)"
      ],
      "execution_count": 12,
      "outputs": []
    },
    {
      "cell_type": "code",
      "metadata": {
        "colab": {
          "base_uri": "https://localhost:8080/",
          "height": 0
        },
        "id": "wPoB3-9CpN7v",
        "outputId": "1094f845-90d6-41ca-9a2a-e2c0fa5283b7"
      },
      "source": [
        "network.fit(train_images, train_labels, epochs=5, batch_size=128)"
      ],
      "execution_count": 13,
      "outputs": [
        {
          "output_type": "stream",
          "text": [
            "Epoch 1/5\n",
            "469/469 [==============================] - 6s 12ms/step - loss: 0.4268 - accuracy: 0.8770\n",
            "Epoch 2/5\n",
            "469/469 [==============================] - 5s 11ms/step - loss: 0.1077 - accuracy: 0.9688\n",
            "Epoch 3/5\n",
            "469/469 [==============================] - 5s 12ms/step - loss: 0.0699 - accuracy: 0.9790\n",
            "Epoch 4/5\n",
            "469/469 [==============================] - 6s 12ms/step - loss: 0.0502 - accuracy: 0.9854\n",
            "Epoch 5/5\n",
            "469/469 [==============================] - 6s 12ms/step - loss: 0.0364 - accuracy: 0.9895\n"
          ],
          "name": "stdout"
        },
        {
          "output_type": "execute_result",
          "data": {
            "text/plain": [
              "<tensorflow.python.keras.callbacks.History at 0x7fc74562d6d0>"
            ]
          },
          "metadata": {
            "tags": []
          },
          "execution_count": 13
        }
      ]
    },
    {
      "cell_type": "code",
      "metadata": {
        "colab": {
          "base_uri": "https://localhost:8080/",
          "height": 0
        },
        "id": "XXr9i4zZpW7L",
        "outputId": "002c1b1f-5100-47cb-f73d-cf8d6362c99e"
      },
      "source": [
        "test_loss, test_acc = network.evaluate(test_images, test_labels)"
      ],
      "execution_count": 14,
      "outputs": [
        {
          "output_type": "stream",
          "text": [
            "313/313 [==============================] - 1s 3ms/step - loss: 0.0742 - accuracy: 0.9772\n"
          ],
          "name": "stdout"
        }
      ]
    },
    {
      "cell_type": "code",
      "metadata": {
        "colab": {
          "base_uri": "https://localhost:8080/",
          "height": 0
        },
        "id": "WKnZRHC_pc6B",
        "outputId": "5f9bd914-7f70-429a-ee5e-c4cdf8b4322c"
      },
      "source": [
        "print('test_acc:', test_acc)"
      ],
      "execution_count": 15,
      "outputs": [
        {
          "output_type": "stream",
          "text": [
            "test_acc: 0.9771999716758728\n"
          ],
          "name": "stdout"
        }
      ]
    },
    {
      "cell_type": "markdown",
      "metadata": {
        "id": "lQk0ZYtY39wu"
      },
      "source": [
        "### Keras Multi-class Classification using IRIS Dataset"
      ]
    },
    {
      "cell_type": "markdown",
      "metadata": {
        "id": "OsY_Tm254GAT"
      },
      "source": [
        "I didn't know how to get some of the notebooks, so I found this blogpost.\n",
        "\n",
        "[Keras Multi-class Classification using IRIS Dataset](https://vitalflux.com/keras-multi-class-classification-using-iris-dataset/)\n",
        "\n"
      ]
    },
    {
      "cell_type": "code",
      "metadata": {
        "id": "zfwIT7Xcp7Hn"
      },
      "source": [
        "import numpy as np\n",
        "from sklearn import datasets\n",
        "from sklearn.model_selection import train_test_split"
      ],
      "execution_count": 29,
      "outputs": []
    },
    {
      "cell_type": "code",
      "metadata": {
        "id": "JLmbB-uOqF5j"
      },
      "source": [
        "\n",
        "# Create the network\n",
        "network = models.Sequential()\n",
        "network.add(layers.Dense(512, activation='relu', input_shape=(4,)))\n",
        "network.add(layers.Dense(3, activation='softmax'))\n"
      ],
      "execution_count": 30,
      "outputs": []
    },
    {
      "cell_type": "code",
      "metadata": {
        "id": "3Gv3azyPqbfS"
      },
      "source": [
        "# Compile the network\n",
        "#\n",
        "network.compile(optimizer='rmsprop',\n",
        "                loss='categorical_crossentropy',\n",
        "                metrics=['accuracy'])"
      ],
      "execution_count": 31,
      "outputs": []
    },
    {
      "cell_type": "code",
      "metadata": {
        "id": "QsJqx9T286vM"
      },
      "source": [
        "# Load the iris dataset\n",
        "#\n",
        "iris = datasets.load_iris()\n",
        "X = iris.data\n",
        "y = iris.target"
      ],
      "execution_count": 32,
      "outputs": []
    },
    {
      "cell_type": "code",
      "metadata": {
        "id": "rvA7Y0dK9CIe"
      },
      "source": [
        "# Create training and test split\n",
        "# \n",
        "X_train, X_test, y_train, y_test = train_test_split(X, y, \n",
        "                        test_size=0.3, stratify=y, random_state=42)"
      ],
      "execution_count": 34,
      "outputs": []
    },
    {
      "cell_type": "code",
      "metadata": {
        "id": "Ihbm0FXA9Rq4"
      },
      "source": [
        "# Create categorical labels\n",
        "#\n",
        "train_labels = to_categorical(y_train)\n",
        "test_labels = to_categorical(y_test)"
      ],
      "execution_count": 35,
      "outputs": []
    },
    {
      "cell_type": "code",
      "metadata": {
        "colab": {
          "base_uri": "https://localhost:8080/",
          "height": 0
        },
        "id": "KbLMebe-9Tt-",
        "outputId": "f0896e02-2520-4720-f62e-c371b42dbbe9"
      },
      "source": [
        "# Fit the neural network\n",
        "#\n",
        "network.fit(X_train, train_labels, epochs=20, batch_size=40)"
      ],
      "execution_count": 36,
      "outputs": [
        {
          "output_type": "stream",
          "text": [
            "Epoch 1/20\n",
            "3/3 [==============================] - 1s 6ms/step - loss: 1.1830 - accuracy: 0.2802\n",
            "Epoch 2/20\n",
            "3/3 [==============================] - 0s 4ms/step - loss: 0.9889 - accuracy: 0.4744\n",
            "Epoch 3/20\n",
            "3/3 [==============================] - 0s 8ms/step - loss: 0.8977 - accuracy: 0.5329\n",
            "Epoch 4/20\n",
            "3/3 [==============================] - 0s 6ms/step - loss: 0.8513 - accuracy: 0.6379\n",
            "Epoch 5/20\n",
            "3/3 [==============================] - 0s 4ms/step - loss: 0.7873 - accuracy: 0.6723\n",
            "Epoch 6/20\n",
            "3/3 [==============================] - 0s 7ms/step - loss: 0.7259 - accuracy: 0.6929\n",
            "Epoch 7/20\n",
            "3/3 [==============================] - 0s 4ms/step - loss: 0.7133 - accuracy: 0.7310\n",
            "Epoch 8/20\n",
            "3/3 [==============================] - 0s 6ms/step - loss: 0.6829 - accuracy: 0.9320\n",
            "Epoch 9/20\n",
            "3/3 [==============================] - 0s 5ms/step - loss: 0.6271 - accuracy: 0.7372\n",
            "Epoch 10/20\n",
            "3/3 [==============================] - 0s 4ms/step - loss: 0.6201 - accuracy: 0.6408\n",
            "Epoch 11/20\n",
            "3/3 [==============================] - 0s 4ms/step - loss: 0.5993 - accuracy: 0.7451\n",
            "Epoch 12/20\n",
            "3/3 [==============================] - 0s 6ms/step - loss: 0.5314 - accuracy: 0.8659\n",
            "Epoch 13/20\n",
            "3/3 [==============================] - 0s 5ms/step - loss: 0.5411 - accuracy: 0.9685\n",
            "Epoch 14/20\n",
            "3/3 [==============================] - 0s 8ms/step - loss: 0.5156 - accuracy: 0.7324\n",
            "Epoch 15/20\n",
            "3/3 [==============================] - 0s 6ms/step - loss: 0.4995 - accuracy: 0.9479\n",
            "Epoch 16/20\n",
            "3/3 [==============================] - 0s 7ms/step - loss: 0.4773 - accuracy: 0.7577\n",
            "Epoch 17/20\n",
            "3/3 [==============================] - 0s 6ms/step - loss: 0.4859 - accuracy: 0.7609\n",
            "Epoch 18/20\n",
            "3/3 [==============================] - 0s 5ms/step - loss: 0.4584 - accuracy: 0.9415\n",
            "Epoch 19/20\n",
            "3/3 [==============================] - 0s 7ms/step - loss: 0.4384 - accuracy: 0.8897\n",
            "Epoch 20/20\n",
            "3/3 [==============================] - 0s 7ms/step - loss: 0.4371 - accuracy: 0.8396\n"
          ],
          "name": "stdout"
        },
        {
          "output_type": "execute_result",
          "data": {
            "text/plain": [
              "<tensorflow.python.keras.callbacks.History at 0x7fc739d61e90>"
            ]
          },
          "metadata": {
            "tags": []
          },
          "execution_count": 36
        }
      ]
    },
    {
      "cell_type": "code",
      "metadata": {
        "colab": {
          "base_uri": "https://localhost:8080/",
          "height": 0
        },
        "id": "kSkxoXRn9XG8",
        "outputId": "641cfcfb-499b-444f-958e-38c6b3155966"
      },
      "source": [
        "#\n",
        "# Get the accuracy of test data set\n",
        "#\n",
        "test_loss, test_acc = network.evaluate(X_test, test_labels)\n",
        "#\n",
        "# Print the test accuracy\n",
        "#\n",
        "print('Test Accuracy: ', test_acc, '\\nTest Loss: ', test_loss)"
      ],
      "execution_count": 37,
      "outputs": [
        {
          "output_type": "stream",
          "text": [
            "2/2 [==============================] - 0s 6ms/step - loss: 0.4287 - accuracy: 0.8222\n",
            "Test Accuracy:  0.8222222328186035 \n",
            "Test Loss:  0.42869728803634644\n"
          ],
          "name": "stdout"
        }
      ]
    }
  ]
}